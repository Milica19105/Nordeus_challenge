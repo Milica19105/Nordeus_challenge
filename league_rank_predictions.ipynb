{
 "cells": [
  {
   "cell_type": "code",
   "execution_count": 1,
   "metadata": {},
   "outputs": [],
   "source": [
    "import pandas as pd"
   ]
  },
  {
   "cell_type": "markdown",
   "metadata": {},
   "source": [
    "## Importing data:"
   ]
  },
  {
   "cell_type": "code",
   "execution_count": 2,
   "metadata": {},
   "outputs": [],
   "source": [
    "df = pd.read_csv(\"jobfair_train.csv\")  #df is short for data frame :)"
   ]
  },
  {
   "cell_type": "code",
   "execution_count": 3,
   "metadata": {},
   "outputs": [
    {
     "data": {
      "text/html": [
       "<div>\n",
       "<style scoped>\n",
       "    .dataframe tbody tr th:only-of-type {\n",
       "        vertical-align: middle;\n",
       "    }\n",
       "\n",
       "    .dataframe tbody tr th {\n",
       "        vertical-align: top;\n",
       "    }\n",
       "\n",
       "    .dataframe thead th {\n",
       "        text-align: right;\n",
       "    }\n",
       "</style>\n",
       "<table border=\"1\" class=\"dataframe\">\n",
       "  <thead>\n",
       "    <tr style=\"text-align: right;\">\n",
       "      <th></th>\n",
       "      <th>season</th>\n",
       "      <th>club_id</th>\n",
       "      <th>league_id</th>\n",
       "      <th>dynamic_payment_segment</th>\n",
       "      <th>cohort_season</th>\n",
       "      <th>avg_age_top_11_players</th>\n",
       "      <th>avg_stars_top_11_players</th>\n",
       "      <th>avg_stars_top_14_players</th>\n",
       "      <th>avg_training_factor_top_11_players</th>\n",
       "      <th>days_active_last_28_days</th>\n",
       "      <th>...</th>\n",
       "      <th>registration_country</th>\n",
       "      <th>registration_platform_specific</th>\n",
       "      <th>league_match_won_count_last_28_days</th>\n",
       "      <th>training_count_last_28_days</th>\n",
       "      <th>global_competition_level</th>\n",
       "      <th>tokens_spent_last_28_days</th>\n",
       "      <th>tokens_stash</th>\n",
       "      <th>rests_stash</th>\n",
       "      <th>morale_boosters_stash</th>\n",
       "      <th>league_rank</th>\n",
       "    </tr>\n",
       "  </thead>\n",
       "  <tbody>\n",
       "    <tr>\n",
       "      <th>0</th>\n",
       "      <td>173</td>\n",
       "      <td>6042825</td>\n",
       "      <td>2912348</td>\n",
       "      <td>2) Minnow</td>\n",
       "      <td>134</td>\n",
       "      <td>25</td>\n",
       "      <td>5.255151</td>\n",
       "      <td>4.483009</td>\n",
       "      <td>1.778801</td>\n",
       "      <td>25</td>\n",
       "      <td>...</td>\n",
       "      <td>Portugal</td>\n",
       "      <td>Flash FB Canvas</td>\n",
       "      <td>24</td>\n",
       "      <td>435</td>\n",
       "      <td>11.0</td>\n",
       "      <td>598</td>\n",
       "      <td>245</td>\n",
       "      <td>186</td>\n",
       "      <td>818</td>\n",
       "      <td>2</td>\n",
       "    </tr>\n",
       "    <tr>\n",
       "      <th>1</th>\n",
       "      <td>173</td>\n",
       "      <td>9620967</td>\n",
       "      <td>2912140</td>\n",
       "      <td>2) Minnow</td>\n",
       "      <td>28</td>\n",
       "      <td>23</td>\n",
       "      <td>4.962521</td>\n",
       "      <td>4.785648</td>\n",
       "      <td>-0.002687</td>\n",
       "      <td>28</td>\n",
       "      <td>...</td>\n",
       "      <td>Turkey</td>\n",
       "      <td>Android Phone</td>\n",
       "      <td>19</td>\n",
       "      <td>58</td>\n",
       "      <td>7.0</td>\n",
       "      <td>269</td>\n",
       "      <td>0</td>\n",
       "      <td>35</td>\n",
       "      <td>24</td>\n",
       "      <td>2</td>\n",
       "    </tr>\n",
       "    <tr>\n",
       "      <th>2</th>\n",
       "      <td>173</td>\n",
       "      <td>6045474</td>\n",
       "      <td>2912933</td>\n",
       "      <td>4) Whale</td>\n",
       "      <td>136</td>\n",
       "      <td>23</td>\n",
       "      <td>11.105782</td>\n",
       "      <td>10.511133</td>\n",
       "      <td>0.628794</td>\n",
       "      <td>28</td>\n",
       "      <td>...</td>\n",
       "      <td>Belgium</td>\n",
       "      <td>Flash FB Canvas</td>\n",
       "      <td>26</td>\n",
       "      <td>116</td>\n",
       "      <td>8.0</td>\n",
       "      <td>23180</td>\n",
       "      <td>369</td>\n",
       "      <td>444</td>\n",
       "      <td>4933</td>\n",
       "      <td>1</td>\n",
       "    </tr>\n",
       "    <tr>\n",
       "      <th>3</th>\n",
       "      <td>173</td>\n",
       "      <td>14187773</td>\n",
       "      <td>2910371</td>\n",
       "      <td>0) NonPayer</td>\n",
       "      <td>2</td>\n",
       "      <td>21</td>\n",
       "      <td>4.164848</td>\n",
       "      <td>4.023486</td>\n",
       "      <td>0.551904</td>\n",
       "      <td>12</td>\n",
       "      <td>...</td>\n",
       "      <td>Malaysia</td>\n",
       "      <td>Android Phone</td>\n",
       "      <td>11</td>\n",
       "      <td>22</td>\n",
       "      <td>2.0</td>\n",
       "      <td>41</td>\n",
       "      <td>43</td>\n",
       "      <td>213</td>\n",
       "      <td>126</td>\n",
       "      <td>6</td>\n",
       "    </tr>\n",
       "    <tr>\n",
       "      <th>4</th>\n",
       "      <td>173</td>\n",
       "      <td>13694853</td>\n",
       "      <td>2907632</td>\n",
       "      <td>0) NonPayer</td>\n",
       "      <td>5</td>\n",
       "      <td>22</td>\n",
       "      <td>3.031939</td>\n",
       "      <td>2.926029</td>\n",
       "      <td>0.690544</td>\n",
       "      <td>0</td>\n",
       "      <td>...</td>\n",
       "      <td>Italy</td>\n",
       "      <td>iOS Phone</td>\n",
       "      <td>9</td>\n",
       "      <td>0</td>\n",
       "      <td>4.0</td>\n",
       "      <td>0</td>\n",
       "      <td>16</td>\n",
       "      <td>100</td>\n",
       "      <td>147</td>\n",
       "      <td>10</td>\n",
       "    </tr>\n",
       "    <tr>\n",
       "      <th>...</th>\n",
       "      <td>...</td>\n",
       "      <td>...</td>\n",
       "      <td>...</td>\n",
       "      <td>...</td>\n",
       "      <td>...</td>\n",
       "      <td>...</td>\n",
       "      <td>...</td>\n",
       "      <td>...</td>\n",
       "      <td>...</td>\n",
       "      <td>...</td>\n",
       "      <td>...</td>\n",
       "      <td>...</td>\n",
       "      <td>...</td>\n",
       "      <td>...</td>\n",
       "      <td>...</td>\n",
       "      <td>...</td>\n",
       "      <td>...</td>\n",
       "      <td>...</td>\n",
       "      <td>...</td>\n",
       "      <td>...</td>\n",
       "      <td>...</td>\n",
       "    </tr>\n",
       "    <tr>\n",
       "      <th>55309</th>\n",
       "      <td>173</td>\n",
       "      <td>14278145</td>\n",
       "      <td>2906514</td>\n",
       "      <td>0) NonPayer</td>\n",
       "      <td>2</td>\n",
       "      <td>25</td>\n",
       "      <td>4.160909</td>\n",
       "      <td>3.948086</td>\n",
       "      <td>0.503241</td>\n",
       "      <td>11</td>\n",
       "      <td>...</td>\n",
       "      <td>Switzerland</td>\n",
       "      <td>iOS Phone</td>\n",
       "      <td>13</td>\n",
       "      <td>25</td>\n",
       "      <td>NaN</td>\n",
       "      <td>42</td>\n",
       "      <td>10</td>\n",
       "      <td>25</td>\n",
       "      <td>37</td>\n",
       "      <td>1</td>\n",
       "    </tr>\n",
       "    <tr>\n",
       "      <th>55310</th>\n",
       "      <td>173</td>\n",
       "      <td>14309556</td>\n",
       "      <td>2906913</td>\n",
       "      <td>2) Minnow</td>\n",
       "      <td>2</td>\n",
       "      <td>21</td>\n",
       "      <td>4.244145</td>\n",
       "      <td>3.762286</td>\n",
       "      <td>0.664514</td>\n",
       "      <td>28</td>\n",
       "      <td>...</td>\n",
       "      <td>France</td>\n",
       "      <td>iOS Phone</td>\n",
       "      <td>25</td>\n",
       "      <td>167</td>\n",
       "      <td>NaN</td>\n",
       "      <td>214</td>\n",
       "      <td>158</td>\n",
       "      <td>358</td>\n",
       "      <td>256</td>\n",
       "      <td>1</td>\n",
       "    </tr>\n",
       "    <tr>\n",
       "      <th>55311</th>\n",
       "      <td>173</td>\n",
       "      <td>14455654</td>\n",
       "      <td>2905985</td>\n",
       "      <td>0) NonPayer</td>\n",
       "      <td>1</td>\n",
       "      <td>21</td>\n",
       "      <td>4.000158</td>\n",
       "      <td>3.753276</td>\n",
       "      <td>0.507620</td>\n",
       "      <td>6</td>\n",
       "      <td>...</td>\n",
       "      <td>France</td>\n",
       "      <td>iOS Tablet</td>\n",
       "      <td>14</td>\n",
       "      <td>17</td>\n",
       "      <td>NaN</td>\n",
       "      <td>73</td>\n",
       "      <td>11</td>\n",
       "      <td>70</td>\n",
       "      <td>57</td>\n",
       "      <td>11</td>\n",
       "    </tr>\n",
       "    <tr>\n",
       "      <th>55312</th>\n",
       "      <td>173</td>\n",
       "      <td>13623733</td>\n",
       "      <td>2910437</td>\n",
       "      <td>0) NonPayer</td>\n",
       "      <td>5</td>\n",
       "      <td>24</td>\n",
       "      <td>4.582158</td>\n",
       "      <td>4.461391</td>\n",
       "      <td>0.664767</td>\n",
       "      <td>28</td>\n",
       "      <td>...</td>\n",
       "      <td>Morocco</td>\n",
       "      <td>Android Phone</td>\n",
       "      <td>22</td>\n",
       "      <td>80</td>\n",
       "      <td>4.0</td>\n",
       "      <td>90</td>\n",
       "      <td>65</td>\n",
       "      <td>109</td>\n",
       "      <td>150</td>\n",
       "      <td>5</td>\n",
       "    </tr>\n",
       "    <tr>\n",
       "      <th>55313</th>\n",
       "      <td>173</td>\n",
       "      <td>11719971</td>\n",
       "      <td>2910381</td>\n",
       "      <td>0) NonPayer</td>\n",
       "      <td>16</td>\n",
       "      <td>23</td>\n",
       "      <td>5.176582</td>\n",
       "      <td>4.762305</td>\n",
       "      <td>0.640298</td>\n",
       "      <td>1</td>\n",
       "      <td>...</td>\n",
       "      <td>Greece</td>\n",
       "      <td>Android Phone</td>\n",
       "      <td>6</td>\n",
       "      <td>2</td>\n",
       "      <td>6.0</td>\n",
       "      <td>50</td>\n",
       "      <td>24</td>\n",
       "      <td>17</td>\n",
       "      <td>354</td>\n",
       "      <td>9</td>\n",
       "    </tr>\n",
       "  </tbody>\n",
       "</table>\n",
       "<p>55314 rows × 23 columns</p>\n",
       "</div>"
      ],
      "text/plain": [
       "       season   club_id  league_id dynamic_payment_segment  cohort_season  \\\n",
       "0         173   6042825    2912348               2) Minnow            134   \n",
       "1         173   9620967    2912140               2) Minnow             28   \n",
       "2         173   6045474    2912933                4) Whale            136   \n",
       "3         173  14187773    2910371             0) NonPayer              2   \n",
       "4         173  13694853    2907632             0) NonPayer              5   \n",
       "...       ...       ...        ...                     ...            ...   \n",
       "55309     173  14278145    2906514             0) NonPayer              2   \n",
       "55310     173  14309556    2906913               2) Minnow              2   \n",
       "55311     173  14455654    2905985             0) NonPayer              1   \n",
       "55312     173  13623733    2910437             0) NonPayer              5   \n",
       "55313     173  11719971    2910381             0) NonPayer             16   \n",
       "\n",
       "       avg_age_top_11_players  avg_stars_top_11_players  \\\n",
       "0                          25                  5.255151   \n",
       "1                          23                  4.962521   \n",
       "2                          23                 11.105782   \n",
       "3                          21                  4.164848   \n",
       "4                          22                  3.031939   \n",
       "...                       ...                       ...   \n",
       "55309                      25                  4.160909   \n",
       "55310                      21                  4.244145   \n",
       "55311                      21                  4.000158   \n",
       "55312                      24                  4.582158   \n",
       "55313                      23                  5.176582   \n",
       "\n",
       "       avg_stars_top_14_players  avg_training_factor_top_11_players  \\\n",
       "0                      4.483009                            1.778801   \n",
       "1                      4.785648                           -0.002687   \n",
       "2                     10.511133                            0.628794   \n",
       "3                      4.023486                            0.551904   \n",
       "4                      2.926029                            0.690544   \n",
       "...                         ...                                 ...   \n",
       "55309                  3.948086                            0.503241   \n",
       "55310                  3.762286                            0.664514   \n",
       "55311                  3.753276                            0.507620   \n",
       "55312                  4.461391                            0.664767   \n",
       "55313                  4.762305                            0.640298   \n",
       "\n",
       "       days_active_last_28_days  ...  registration_country  \\\n",
       "0                            25  ...              Portugal   \n",
       "1                            28  ...                Turkey   \n",
       "2                            28  ...               Belgium   \n",
       "3                            12  ...              Malaysia   \n",
       "4                             0  ...                 Italy   \n",
       "...                         ...  ...                   ...   \n",
       "55309                        11  ...           Switzerland   \n",
       "55310                        28  ...                France   \n",
       "55311                         6  ...                France   \n",
       "55312                        28  ...               Morocco   \n",
       "55313                         1  ...                Greece   \n",
       "\n",
       "       registration_platform_specific  league_match_won_count_last_28_days  \\\n",
       "0                     Flash FB Canvas                                   24   \n",
       "1                       Android Phone                                   19   \n",
       "2                     Flash FB Canvas                                   26   \n",
       "3                       Android Phone                                   11   \n",
       "4                           iOS Phone                                    9   \n",
       "...                               ...                                  ...   \n",
       "55309                       iOS Phone                                   13   \n",
       "55310                       iOS Phone                                   25   \n",
       "55311                      iOS Tablet                                   14   \n",
       "55312                   Android Phone                                   22   \n",
       "55313                   Android Phone                                    6   \n",
       "\n",
       "      training_count_last_28_days global_competition_level  \\\n",
       "0                             435                     11.0   \n",
       "1                              58                      7.0   \n",
       "2                             116                      8.0   \n",
       "3                              22                      2.0   \n",
       "4                               0                      4.0   \n",
       "...                           ...                      ...   \n",
       "55309                          25                      NaN   \n",
       "55310                         167                      NaN   \n",
       "55311                          17                      NaN   \n",
       "55312                          80                      4.0   \n",
       "55313                           2                      6.0   \n",
       "\n",
       "       tokens_spent_last_28_days  tokens_stash  rests_stash  \\\n",
       "0                            598           245          186   \n",
       "1                            269             0           35   \n",
       "2                          23180           369          444   \n",
       "3                             41            43          213   \n",
       "4                              0            16          100   \n",
       "...                          ...           ...          ...   \n",
       "55309                         42            10           25   \n",
       "55310                        214           158          358   \n",
       "55311                         73            11           70   \n",
       "55312                         90            65          109   \n",
       "55313                         50            24           17   \n",
       "\n",
       "       morale_boosters_stash  league_rank  \n",
       "0                        818            2  \n",
       "1                         24            2  \n",
       "2                       4933            1  \n",
       "3                        126            6  \n",
       "4                        147           10  \n",
       "...                      ...          ...  \n",
       "55309                     37            1  \n",
       "55310                    256            1  \n",
       "55311                     57           11  \n",
       "55312                    150            5  \n",
       "55313                    354            9  \n",
       "\n",
       "[55314 rows x 23 columns]"
      ]
     },
     "execution_count": 3,
     "metadata": {},
     "output_type": "execute_result"
    }
   ],
   "source": [
    "df"
   ]
  },
  {
   "cell_type": "code",
   "execution_count": 4,
   "metadata": {},
   "outputs": [
    {
     "data": {
      "text/plain": [
       "Index(['season', 'club_id', 'league_id', 'dynamic_payment_segment',\n",
       "       'cohort_season', 'avg_age_top_11_players', 'avg_stars_top_11_players',\n",
       "       'avg_stars_top_14_players', 'avg_training_factor_top_11_players',\n",
       "       'days_active_last_28_days', 'league_match_watched_count_last_28_days',\n",
       "       'session_count_last_28_days', 'playtime_last_28_days',\n",
       "       'registration_country', 'registration_platform_specific',\n",
       "       'league_match_won_count_last_28_days', 'training_count_last_28_days',\n",
       "       'global_competition_level', 'tokens_spent_last_28_days', 'tokens_stash',\n",
       "       'rests_stash', 'morale_boosters_stash', 'league_rank'],\n",
       "      dtype='object')"
      ]
     },
     "execution_count": 4,
     "metadata": {},
     "output_type": "execute_result"
    }
   ],
   "source": [
    "atributes=df.columns\n",
    "atributes"
   ]
  },
  {
   "cell_type": "code",
   "execution_count": 5,
   "metadata": {},
   "outputs": [],
   "source": [
    "all_atributes=['season', 'club_id', 'league_id', 'dynamic_payment_segment',\n",
    "       'cohort_season', 'avg_age_top_11_players', 'avg_stars_top_11_players',\n",
    "       'avg_stars_top_14_players', 'avg_training_factor_top_11_players',\n",
    "       'days_active_last_28_days', 'league_match_watched_count_last_28_days',\n",
    "       'session_count_last_28_days', 'playtime_last_28_days',\n",
    "       'registration_country', 'registration_platform_specific',\n",
    "       'league_match_won_count_last_28_days', 'training_count_last_28_days',\n",
    "       'global_competition_level', 'tokens_spent_last_28_days', 'tokens_stash',\n",
    "       'rests_stash', 'morale_boosters_stash', 'league_rank']"
   ]
  },
  {
   "cell_type": "code",
   "execution_count": 21,
   "metadata": {},
   "outputs": [
    {
     "ename": "NameError",
     "evalue": "name 'duplikates' is not defined",
     "output_type": "error",
     "traceback": [
      "\u001b[1;31m---------------------------------------------------------------------------\u001b[0m",
      "\u001b[1;31mNameError\u001b[0m                                 Traceback (most recent call last)",
      "Input \u001b[1;32mIn [21]\u001b[0m, in \u001b[0;36m<cell line: 4>\u001b[1;34m()\u001b[0m\n\u001b[0;32m      1\u001b[0m duplicates \u001b[38;5;241m=\u001b[39m df[df\u001b[38;5;241m.\u001b[39mduplicated()]\n\u001b[0;32m      3\u001b[0m \u001b[38;5;66;03m# Ispisi duplikate, ako postoje\u001b[39;00m\n\u001b[1;32m----> 4\u001b[0m \u001b[38;5;28;01mif\u001b[39;00m \u001b[38;5;129;01mnot\u001b[39;00m \u001b[43mduplikates\u001b[49m\u001b[38;5;241m.\u001b[39mempty:\n\u001b[0;32m      5\u001b[0m     \u001b[38;5;28mprint\u001b[39m(\u001b[38;5;124m\"\u001b[39m\u001b[38;5;124mDuplicates:\u001b[39m\u001b[38;5;124m\"\u001b[39m)\n\u001b[0;32m      6\u001b[0m     \u001b[38;5;28mprint\u001b[39m(duplicates)\n",
      "\u001b[1;31mNameError\u001b[0m: name 'duplikates' is not defined"
     ]
    }
   ],
   "source": [
    "duplicates = df[df.duplicated()]\n",
    "\n",
    "# Ispisi duplikate, ako postoje\n",
    "if not duplikates.empty:\n",
    "    print(\"Duplicates:\")\n",
    "    print(duplicates)\n",
    "else:\n",
    "    print(\"No duplicates.\")"
   ]
  },
  {
   "cell_type": "markdown",
   "metadata": {},
   "source": [
    "## Looking for missing values: "
   ]
  },
  {
   "cell_type": "code",
   "execution_count": 6,
   "metadata": {},
   "outputs": [
    {
     "data": {
      "text/plain": [
       "season                                         0\n",
       "club_id                                        0\n",
       "league_id                                      0\n",
       "dynamic_payment_segment                        0\n",
       "cohort_season                                  0\n",
       "avg_age_top_11_players                         0\n",
       "avg_stars_top_11_players                       0\n",
       "avg_stars_top_14_players                       0\n",
       "avg_training_factor_top_11_players             0\n",
       "days_active_last_28_days                       0\n",
       "league_match_watched_count_last_28_days        0\n",
       "session_count_last_28_days                     0\n",
       "playtime_last_28_days                          0\n",
       "registration_country                           0\n",
       "registration_platform_specific                 0\n",
       "league_match_won_count_last_28_days            0\n",
       "training_count_last_28_days                    0\n",
       "global_competition_level                   17551\n",
       "tokens_spent_last_28_days                      0\n",
       "tokens_stash                                   0\n",
       "rests_stash                                    0\n",
       "morale_boosters_stash                          0\n",
       "league_rank                                    0\n",
       "dtype: int64"
      ]
     },
     "execution_count": 6,
     "metadata": {},
     "output_type": "execute_result"
    }
   ],
   "source": [
    "missing_values = df[atributes].isnull().sum()\n",
    "missing_values"
   ]
  },
  {
   "cell_type": "code",
   "execution_count": 7,
   "metadata": {},
   "outputs": [],
   "source": [
    "df=df.drop(\"global_competition_level\",axis=1) "
   ]
  },
  {
   "cell_type": "code",
   "execution_count": 8,
   "metadata": {},
   "outputs": [
    {
     "name": "stdout",
     "output_type": "stream",
     "text": [
      "Number of unique values in registration_country: 186\n",
      " and in registration_platform_specific: 11\n"
     ]
    }
   ],
   "source": [
    "diff1 = df['registration_country'].nunique()\n",
    "diff2 = df['registration_platform_specific'].nunique()\n",
    "print(f\"Number of unique values in registration_country: {diff1}\\n and in registration_platform_specific: {diff2}\")\n"
   ]
  },
  {
   "cell_type": "code",
   "execution_count": 9,
   "metadata": {},
   "outputs": [],
   "source": [
    "df=df.drop_duplicates()"
   ]
  },
  {
   "cell_type": "markdown",
   "metadata": {},
   "source": [
    "## Registration place and platform are irrelevant for our prediction:"
   ]
  },
  {
   "cell_type": "code",
   "execution_count": 10,
   "metadata": {},
   "outputs": [],
   "source": [
    "df = df.drop(['registration_country', 'registration_platform_specific'], axis=1)"
   ]
  },
  {
   "cell_type": "markdown",
   "metadata": {},
   "source": [
    "The reason is only logical. Platform specifics and your living country should not matter in any game you are playing,\n",
    "so the same reason implies here."
   ]
  },
  {
   "cell_type": "markdown",
   "metadata": {},
   "source": [
    "## Changing 'dynamic_payment_segment' into only numerical values thorugh mapping:"
   ]
  },
  {
   "cell_type": "code",
   "execution_count": 11,
   "metadata": {},
   "outputs": [],
   "source": [
    "mapping = {'0) NonPayer': 0, '1) ExPayer': 1, '2) Minnow': 2,\n",
    "          '3) Dolphin':3, '4) Whale':4}\n",
    "\n",
    "df['dynamic_payment_segment'] = df['dynamic_payment_segment'].map(mapping)"
   ]
  },
  {
   "cell_type": "markdown",
   "metadata": {},
   "source": [
    "This is the only categorical column in database, so for the sake of prediction and furthure coding we are mapping string values into integer numbers, and making every instance in our data frame numerical:"
   ]
  },
  {
   "cell_type": "code",
   "execution_count": 12,
   "metadata": {},
   "outputs": [
    {
     "data": {
      "text/plain": [
       "0        2\n",
       "1        2\n",
       "2        4\n",
       "3        0\n",
       "4        0\n",
       "        ..\n",
       "55309    0\n",
       "55310    2\n",
       "55311    0\n",
       "55312    0\n",
       "55313    0\n",
       "Name: dynamic_payment_segment, Length: 55314, dtype: int64"
      ]
     },
     "execution_count": 12,
     "metadata": {},
     "output_type": "execute_result"
    }
   ],
   "source": [
    "# verification\n",
    "df['dynamic_payment_segment']"
   ]
  },
  {
   "cell_type": "markdown",
   "metadata": {},
   "source": [
    "## Splitting the data into X and y, where y is the target variable:"
   ]
  },
  {
   "cell_type": "code",
   "execution_count": 13,
   "metadata": {},
   "outputs": [
    {
     "name": "stdout",
     "output_type": "stream",
     "text": [
      "(55314, 19) (55314,)\n"
     ]
    }
   ],
   "source": [
    "X = df.drop(['league_rank'], axis=1)\n",
    "y = df['league_rank']\n",
    "\n",
    "print(X.shape,y.shape)"
   ]
  },
  {
   "cell_type": "code",
   "execution_count": 14,
   "metadata": {},
   "outputs": [],
   "source": [
    "from sklearn.model_selection import train_test_split\n",
    "X_train, X_test, y_train, y_test = train_test_split(X, y, test_size=0.2, random_state=42,stratify=y)\n"
   ]
  },
  {
   "cell_type": "markdown",
   "metadata": {},
   "source": [
    "## Eliminating redundant data, minimizing data modification errors, and simplifying the query process with normalization:"
   ]
  },
  {
   "cell_type": "code",
   "execution_count": 15,
   "metadata": {},
   "outputs": [],
   "source": [
    "from sklearn.preprocessing import Normalizer, StandardScaler\n",
    "normalizer = Normalizer()\n",
    "scaler = StandardScaler()\n",
    "X_train_normalized = normalizer.fit_transform(X_train)\n",
    "X_test_normalized = normalizer.transform(X_test)"
   ]
  },
  {
   "cell_type": "markdown",
   "metadata": {},
   "source": [
    "## Now we're implementing the model in our code:"
   ]
  },
  {
   "cell_type": "code",
   "execution_count": 16,
   "metadata": {},
   "outputs": [
    {
     "name": "stdout",
     "output_type": "stream",
     "text": [
      "Mean Squared Error for each fold: [10.44526421  9.62012488  9.69055088  9.62016387  9.63662424]\n",
      "Mean MSE across all folds: 9.802545615789999\n"
     ]
    }
   ],
   "source": [
    "from sklearn.linear_model import LinearRegression\n",
    "from sklearn.metrics import mean_squared_error\n",
    "from sklearn.model_selection import cross_val_score, KFold\n",
    "\n",
    "\n",
    "model = LinearRegression()\n",
    "\n",
    "\n",
    "num_folds = 5  # Možete promeniti broj preklopa prema potrebama\n",
    "\n",
    "kf = KFold(n_splits=num_folds, shuffle=True, random_state=42)\n",
    "\n",
    "cv_results = cross_val_score(model, X, y, cv=kf, scoring='neg_mean_squared_error')\n",
    "\n",
    "cv_results_mse = -cv_results\n",
    "print(f'Mean Squared Error for each fold: {cv_results_mse}')\n",
    "print(f'Mean MSE across all folds: {cv_results_mse.mean()}')"
   ]
  },
  {
   "cell_type": "code",
   "execution_count": 17,
   "metadata": {},
   "outputs": [
    {
     "name": "stdout",
     "output_type": "stream",
     "text": [
      "Mean Squared Error on Test Set: 9.693930564404173\n"
     ]
    }
   ],
   "source": [
    "model.fit(X_train, y_train)\n",
    "\n",
    "predictions = model.predict(X_test)\n",
    "\n",
    "mse = mean_squared_error(y_test, predictions)\n",
    "print(f'Mean Squared Error on Test Set: {mse}')"
   ]
  },
  {
   "cell_type": "markdown",
   "metadata": {},
   "source": [
    "## Doing the same preprocessing on the test data:"
   ]
  },
  {
   "cell_type": "code",
   "execution_count": 18,
   "metadata": {},
   "outputs": [],
   "source": [
    "new_data=pd.read_csv('jobfair_test.csv')\n",
    "new_data=new_data.drop(['registration_country', 'registration_platform_specific','global_competition_level'],axis=1)\n",
    "mapping = {'0) NonPayer': 0, '1) ExPayer': 1, '2) Minnow': 2,\n",
    "          '3) Dolphin':3, '4) Whale':4}\n",
    "\n",
    "new_data['dynamic_payment_segment'] = new_data['dynamic_payment_segment'].map(mapping)"
   ]
  },
  {
   "cell_type": "markdown",
   "metadata": {},
   "source": [
    "## Prediction:"
   ]
  },
  {
   "cell_type": "code",
   "execution_count": 19,
   "metadata": {},
   "outputs": [
    {
     "name": "stdout",
     "output_type": "stream",
     "text": [
      "Predicted League Rank for Club 11719971: 28.071642652218543\n"
     ]
    }
   ],
   "source": [
    "predicted_rank = model.predict(new_data)\n",
    "print(f'Predicted League Rank for Club {11719971}: {predicted_rank[55313]}')"
   ]
  },
  {
   "cell_type": "code",
   "execution_count": null,
   "metadata": {},
   "outputs": [],
   "source": []
  },
  {
   "cell_type": "code",
   "execution_count": null,
   "metadata": {},
   "outputs": [],
   "source": []
  },
  {
   "cell_type": "code",
   "execution_count": null,
   "metadata": {},
   "outputs": [],
   "source": []
  },
  {
   "cell_type": "code",
   "execution_count": null,
   "metadata": {},
   "outputs": [],
   "source": []
  },
  {
   "cell_type": "code",
   "execution_count": null,
   "metadata": {},
   "outputs": [],
   "source": []
  }
 ],
 "metadata": {
  "kernelspec": {
   "display_name": "Python 3 (ipykernel)",
   "language": "python",
   "name": "python3"
  },
  "language_info": {
   "codemirror_mode": {
    "name": "ipython",
    "version": 3
   },
   "file_extension": ".py",
   "mimetype": "text/x-python",
   "name": "python",
   "nbconvert_exporter": "python",
   "pygments_lexer": "ipython3",
   "version": "3.9.12"
  }
 },
 "nbformat": 4,
 "nbformat_minor": 4
}
